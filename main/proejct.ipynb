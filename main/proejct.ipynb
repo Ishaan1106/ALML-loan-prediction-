{
 "cells": [
  {
   "cell_type": "code",
   "execution_count": 168,
   "metadata": {},
   "outputs": [
    {
     "name": "stdout",
     "output_type": "stream",
     "text": [
      "loan_status\n",
      "Approved    2656\n",
      "Rejected    1613\n",
      "Name: count, dtype: int64\n"
     ]
    }
   ],
   "source": [
    "# loan approval prediction \n",
    "# using logistic regression, support vector machine , decision tree\n",
    "# then compairing their accuracy and using the best model to predict the loan approval\n",
    "# columns :- loan_id, no_of_dependents, education, self_employed, income_annum, loan_amount, loan_term, cibil_score, residential_assets_value, commercial_assets_value, luxury_assets_value, bank_asset_value, loan_status\n",
    "\n",
    "import pandas as pd \n",
    "import numpy as np \n",
    "import matplotlib.pyplot as plt \n",
    "from colorama import Fore, Style \n",
    "\n",
    "data = pd.read_csv('test.csv')\n",
    "\n",
    "\n",
    "# Check the balance of the dataset\n",
    "data.columns = data.columns.str.strip()\n",
    "print(data['loan_status'].value_counts())"
   ]
  },
  {
   "cell_type": "markdown",
   "metadata": {},
   "source": [
    "<h3 style=\"color:yellow;\"> data cleaning "
   ]
  },
  {
   "cell_type": "code",
   "execution_count": 169,
   "metadata": {},
   "outputs": [
    {
     "name": "stdout",
     "output_type": "stream",
     "text": [
      "\u001b[31m\u001b[1mchecking null values :- \n",
      "\u001b[0m\n",
      "loan_id                     0\n",
      "no_of_dependents            0\n",
      "education                   0\n",
      "self_employed               0\n",
      "income_annum                0\n",
      "loan_amount                 0\n",
      "loan_term                   0\n",
      "cibil_score                 0\n",
      "residential_assets_value    0\n",
      "commercial_assets_value     0\n",
      "luxury_assets_value         0\n",
      "bank_asset_value            0\n",
      "loan_status                 0\n",
      "dtype: int64\n"
     ]
    }
   ],
   "source": [
    "# checking null values\n",
    "print(Fore.RED + Style.BRIGHT + \"checking null values :- \"); print(Style.RESET_ALL)\n",
    "print(data.isnull().sum())"
   ]
  },
  {
   "cell_type": "code",
   "execution_count": 170,
   "metadata": {},
   "outputs": [
    {
     "name": "stdout",
     "output_type": "stream",
     "text": [
      "no_of_dependents            0\n",
      "education                   0\n",
      "self_employed               0\n",
      "income_annum                0\n",
      "loan_amount                 0\n",
      "loan_term                   0\n",
      "cibil_score                 0\n",
      "residential_assets_value    0\n",
      "commercial_assets_value     0\n",
      "luxury_assets_value         0\n",
      "bank_asset_value            0\n",
      "loan_status                 0\n",
      "dtype: int64\n"
     ]
    }
   ],
   "source": [
    "data.drop('loan_id', axis=1, inplace=True)\n",
    "\n",
    "#@ Fill missing numerical values with mean\n",
    "numerical_cols = data.select_dtypes(include=[np.number]).columns\n",
    "for col in numerical_cols:\n",
    "    data[col] = data[col].fillna(data[col].mean())\n",
    "\n",
    "#@ Fill missing categorical values with mode\n",
    "categorical_cols = data.select_dtypes(include=['object']).columns\n",
    "for col in categorical_cols:\n",
    "    data[col] = data[col].fillna(data[col].mode()[0])\n",
    "\n",
    "# checking null values\n",
    "print(data.isnull().sum())"
   ]
  },
  {
   "cell_type": "markdown",
   "metadata": {},
   "source": [
    "<h3 style=\"color:yellow;\">Changing strings to numbers</h3>"
   ]
  },
  {
   "cell_type": "code",
   "execution_count": 171,
   "metadata": {},
   "outputs": [],
   "source": [
    "from sklearn.model_selection import train_test_split\n",
    "from sklearn.preprocessing import LabelEncoder\n",
    "from sklearn.preprocessing import StandardScaler\n",
    "\n",
    "# Define the categorical columns\n",
    "categorical_cols = ['no_of_dependents', 'education', 'self_employed', 'loan_status']\n",
    "\n",
    "# Remove leading and trailing spaces\n",
    "for col in data.columns:\n",
    "    if data[col].dtype == 'object':  # If column is of object type (likely strings)\n",
    "        data[col] = data[col].str.strip()\n",
    "\n",
    "# Initialize the LabelEncoder\n",
    "le = LabelEncoder()\n",
    "\n",
    "# Splitting the data into test and train sets\n",
    "x_train, x_test, y_train, y_test = train_test_split(data.drop('loan_status', axis=1), data['loan_status'], test_size=0.2, random_state=42)\n",
    "\n",
    "# # Initialize a dictionary to hold the label encoders\n",
    "# label_encoders = {}\n",
    "\n",
    "# Encode the categorical columns\n",
    "for col in categorical_cols:\n",
    "    if col != 'loan_status':  # Exclude the target variable\n",
    "        le = LabelEncoder()\n",
    "        le.fit(data[col])  # Fit the LabelEncoder using the entire data\n",
    "        x_train[col] = le.transform(x_train[col])\n",
    "        x_test[col] = le.transform(x_test[col])\n",
    "        label_encoders[col] = le\n",
    "\n",
    "# Encode the target variable separately\n",
    "le = LabelEncoder()\n",
    "le.fit(data['loan_status'])  # Fit the LabelEncoder using the entire data\n",
    "y_train = le.transform(y_train)\n",
    "y_test = le.transform(y_test)\n",
    "label_encoders['loan_status'] = le\n",
    "\n",
    "# Feature Scaling\n",
    "scaler = StandardScaler()\n",
    "x_train = scaler.fit_transform(x_train)\n",
    "x_test = scaler.transform(x_test)"
   ]
  },
  {
   "cell_type": "code",
   "execution_count": 172,
   "metadata": {},
   "outputs": [
    {
     "name": "stdout",
     "output_type": "stream",
     "text": [
      "Encoding: ['Approved', 'Rejected']\n",
      "Unique values in y_train: [0 1]\n",
      "Unique values in y_test: [0 1]\n"
     ]
    }
   ],
   "source": [
    "print(\"Encoding:\", list(le.classes_))\n",
    "\n",
    "# Print the unique values of y_train and y_test\n",
    "print(\"Unique values in y_train:\", np.unique(y_train))\n",
    "print(\"Unique values in y_test:\", np.unique(y_test))"
   ]
  },
  {
   "cell_type": "markdown",
   "metadata": {},
   "source": [
    "<h3 style=\"color:yellow;\"> traning the  model"
   ]
  },
  {
   "cell_type": "code",
   "execution_count": 173,
   "metadata": {},
   "outputs": [],
   "source": [
    "from sklearn.linear_model import LogisticRegression\n",
    "from sklearn.svm import SVC\n",
    "from sklearn.tree import DecisionTreeClassifier \n",
    "\n",
    "#loading the models in different vars\n",
    "logistic_model = LogisticRegression()\n",
    "support_vector_model = SVC(probability=True)\n",
    "decision_tree_model = DecisionTreeClassifier()\n",
    "\n",
    "#!training the models\n",
    "logistic_model.fit(x_train, y_train)\n",
    "support_vector_model.fit(x_train, y_train)\n",
    "decision_tree_model.fit(x_train, y_train)\n",
    "\n",
    "from sklearn.metrics import roc_auc_score, roc_curve\n",
    "import matplotlib.pyplot as plt"
   ]
  },
  {
   "cell_type": "markdown",
   "metadata": {},
   "source": [
    "<p style=\"color:pink;\"> RoC curve </p>"
   ]
  },
  {
   "cell_type": "code",
   "execution_count": 174,
   "metadata": {},
   "outputs": [
    {
     "name": "stdout",
     "output_type": "stream",
     "text": [
      "AUC-ROC of Logistic Regression: 0.9674798178916737\n",
      "AUC-ROC of Support Vector Machine: 0.9837369754998593\n",
      "AUC-ROC of Decision Tree: 0.9730298976814044\n"
     ]
    },
    {
     "data": {
      "image/png": "[encoded data removed]",
      "text/plain": [
       "<Figure size 640x480 with 1 Axes>"
      ]
     },
     "metadata": {},
     "output_type": "display_data"
    }
   ],
   "source": [
    "from sklearn.metrics import roc_auc_score, roc_curve\n",
    "\n",
    "# Calculate the probabilities of the positive class\n",
    "y_prob_logistic = logistic_model.predict_proba(x_test)[:, 1]\n",
    "y_prob_svc = support_vector_model.decision_function(x_test)\n",
    "y_prob_decision_tree = decision_tree_model.predict_proba(x_test)[:, 1]\n",
    "\n",
    "# Calculate the AUC-ROC\n",
    "auc_roc_logistic = roc_auc_score(y_test, y_prob_logistic)\n",
    "auc_roc_svc = roc_auc_score(y_test, y_prob_svc)\n",
    "auc_roc_decision_tree = roc_auc_score(y_test, y_prob_decision_tree)\n",
    "\n",
    "# Print the AUC-ROC scores\n",
    "print(f\"AUC-ROC of Logistic Regression: {auc_roc_logistic}\")\n",
    "print(f\"AUC-ROC of Support Vector Machine: {auc_roc_svc}\")\n",
    "print(f\"AUC-ROC of Decision Tree: {auc_roc_decision_tree}\")\n",
    "\n",
    "# Calculate the ROC curve points\n",
    "fpr_logistic, tpr_logistic, _ = roc_curve(y_test, y_prob_logistic)\n",
    "fpr_svc, tpr_svc, _ = roc_curve(y_test, y_prob_svc)\n",
    "fpr_decision_tree, tpr_decision_tree, _ = roc_curve(y_test, y_prob_decision_tree)\n",
    "\n",
    "# Plot the ROC curve\n",
    "plt.plot(fpr_logistic, tpr_logistic, label=f'Logistic Regression (AUC = {auc_roc_logistic})')\n",
    "plt.plot(fpr_svc, tpr_svc, label=f'Support Vector Machine (AUC = {auc_roc_svc})')\n",
    "plt.plot(fpr_decision_tree, tpr_decision_tree, label=f'Decision Tree (AUC = {auc_roc_decision_tree})')\n",
    "plt.plot([0, 1], [0, 1], 'k--')  # Add a diagonal line, which represents a random classifier\n",
    "\n",
    "plt.xlabel('False Positive Rate')\n",
    "plt.ylabel('True Positive Rate')\n",
    "plt.title('Receiver Operating Characteristic (ROC) Curve')\n",
    "plt.legend()\n",
    "plt.show()"
   ]
  },
  {
   "cell_type": "markdown",
   "metadata": {},
   "source": [
    "comparing the accuracy of the models"
   ]
  },
  {
   "cell_type": "code",
   "execution_count": 175,
   "metadata": {},
   "outputs": [
    {
     "name": "stdout",
     "output_type": "stream",
     "text": [
      "\u001b[32m\u001b[1mSupport Vector Machine has the highest accuracy\n"
     ]
    }
   ],
   "source": [
    "a = auc_roc_logistic; b = auc_roc_svc; c = auc_roc_decision_tree\n",
    "if (a > b and a > c):\n",
    "    print(Fore.GREEN + Style.BRIGHT + \"Logistic Regression has the highest accuracy\")\n",
    "    best_model = logistic_model\n",
    "elif (b > a and b > c):\n",
    "    print(Fore.GREEN + Style.BRIGHT + \"Support Vector Machine has the highest accuracy\")\n",
    "    best_model = support_vector_model\n",
    "else:\n",
    "    print(Fore.GREEN + Style.BRIGHT + \"Decision Tree has the highest accuracy\")\n",
    "    best_model = decision_tree_model"
   ]
  },
  {
   "cell_type": "markdown",
   "metadata": {},
   "source": [
    "<h3 style=\"color:yellow;\"> taking input from the user </h3>"
   ]
  },
  {
   "cell_type": "code",
   "execution_count": 176,
   "metadata": {},
   "outputs": [
    {
     "name": "stdout",
     "output_type": "stream",
     "text": [
      "Loan status: Approved\n"
     ]
    }
   ],
   "source": [
    "def predict_loan_status():\n",
    "    # Take user input\n",
    "    no_of_dependents = input(\"Enter number of dependents: \")\n",
    "    education = input(\"Enter education level (Graduate/Not Graduate): \")\n",
    "    self_employed = input(\"Enter self-employed status (Yes/No): \")\n",
    "    income_annum = input(\"Enter annual income: \")\n",
    "    loan_amount = input(\"Enter loan amount: \")\n",
    "    loan_term = input(\"Enter loan term: \")\n",
    "    cibil_score = input(\"Enter CIBIL score: \")\n",
    "    residential_assets_value = input(\"Enter residential assets value: \")\n",
    "    commercial_assets_value = input(\"Enter commercial assets value: \")\n",
    "    luxury_assets_value = input(\"Enter luxury assets value: \")\n",
    "    bank_asset_value = input(\"Enter bank asset value: \")\n",
    "\n",
    "    # Convert the input into a DataFrame\n",
    "    data = pd.DataFrame({\n",
    "        'no_of_dependents': [no_of_dependents], \n",
    "        'education': [education], \n",
    "        'self_employed': [self_employed],\n",
    "        'income_annum': [income_annum],\n",
    "        'loan_amount': [loan_amount],\n",
    "        'loan_term': [loan_term],\n",
    "        'cibil_score': [cibil_score],\n",
    "        'residential_assets_value': [residential_assets_value],\n",
    "        'commercial_assets_value': [commercial_assets_value],\n",
    "        'luxury_assets_value': [luxury_assets_value],\n",
    "        'bank_asset_value': [bank_asset_value]\n",
    "    })\n",
    "\n",
    "    # Apply Label Encoding\n",
    "    for col in categorical_cols:\n",
    "        if col != 'loan_status':  # Exclude the target variable\n",
    "            data[col] = label_encoders[col].transform(data[col])\n",
    "\n",
    "    # Apply Feature Scaling\n",
    "    data = scaler.transform(data)\n",
    "\n",
    "    # Make a prediction\n",
    "    prediction = best_model.predict(data)\n",
    "\n",
    "    # Convert the prediction back to its original form ('Approved' or 'Rejected')\n",
    "    prediction = label_encoders['loan_status'].inverse_transform(prediction)\n",
    "\n",
    "    return prediction[0]\n",
    "\n",
    "print(\"Loan status:\", predict_loan_status())"
   ]
  },
  {
   "cell_type": "code",
   "execution_count": null,
   "metadata": {},
   "outputs": [],
   "source": []
  }
 ],
 "metadata": {
  "kernelspec": {
   "display_name": "Python 3",
   "language": "python",
   "name": "python3"
  },
  "language_info": {
   "codemirror_mode": {
    "name": "ipython",
    "version": 3
   },
   "file_extension": ".py",
   "mimetype": "text/x-python",
   "name": "python",
   "nbconvert_exporter": "python",
   "pygments_lexer": "ipython3",
   "version": "3.12.2"
  }
 },
 "nbformat": 4,
 "nbformat_minor": 2
}
